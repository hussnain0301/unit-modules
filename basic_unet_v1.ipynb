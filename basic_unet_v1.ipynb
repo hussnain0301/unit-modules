{
 "cells": [
  {
   "cell_type": "code",
   "execution_count": 1,
   "id": "1a5ddc98-a1e0-4af6-84f4-101b30832bfd",
   "metadata": {},
   "outputs": [
    {
     "name": "stdout",
     "output_type": "stream",
     "text": [
      "Number of images and masks are consistent.\n"
     ]
    }
   ],
   "source": [
    "import numpy as np\n",
    "from PIL import Image\n",
    "import os\n",
    "\n",
    "def load_images_and_masks(directory):\n",
    "    images = []\n",
    "    masks = []\n",
    "\n",
    "    for filename in os.listdir(directory):\n",
    "        filepath = os.path.join(directory, filename)\n",
    "        \n",
    "        if filename.startswith('1'):  # Original images\n",
    "            image = Image.open(filepath).convert('L')\n",
    "            image = image.resize((128, 128))\n",
    "            image = np.array(image) / 255.0\n",
    "            images.append(image)\n",
    "        \n",
    "        elif filename.startswith('2'):  # Masks\n",
    "            mask = Image.open(filepath).convert('L')\n",
    "            mask = mask.resize((128, 128))\n",
    "            mask = np.array(mask) / 255.0\n",
    "            masks.append(mask)\n",
    "    \n",
    "    return np.array(images), np.array(masks)\n",
    "\n",
    "selected_images_dir = 'selected_images_1500'\n",
    "images, masks = load_images_and_masks(selected_images_dir)\n",
    "\n",
    "# Check consistency\n",
    "def check_consistency(images, masks):\n",
    "    if len(images) != len(masks):\n",
    "        print(\"Number of images and masks are not consistent.\")\n",
    "        return False\n",
    "    else:\n",
    "        print(\"Number of images and masks are consistent.\")\n",
    "        return True\n",
    "\n",
    "if not check_consistency(images, masks):\n",
    "    exit()\n",
    "\n",
    "# Split the dataset into training and testing sets\n",
    "from sklearn.model_selection import train_test_split\n",
    "\n",
    "X_train, X_test, y_train, y_test = train_test_split(images, masks, test_size=0.2, random_state=42)\n",
    "\n",
    "\n"
   ]
  },
  {
   "cell_type": "code",
   "execution_count": 4,
   "id": "8fe15b3e-9563-464b-acba-3df1dab73b07",
   "metadata": {},
   "outputs": [
    {
     "name": "stdout",
     "output_type": "stream",
     "text": [
      "Epoch 1/10\n",
      "\u001b[1m30/30\u001b[0m \u001b[32m━━━━━━━━━━━━━━━━━━━━\u001b[0m\u001b[37m\u001b[0m \u001b[1m82s\u001b[0m 3s/step - accuracy: 0.2765 - loss: 0.7105 - val_accuracy: 0.3420 - val_loss: 0.6019\n",
      "Epoch 2/10\n",
      "\u001b[1m30/30\u001b[0m \u001b[32m━━━━━━━━━━━━━━━━━━━━\u001b[0m\u001b[37m\u001b[0m \u001b[1m78s\u001b[0m 3s/step - accuracy: 0.2983 - loss: 0.6300 - val_accuracy: 0.3420 - val_loss: 0.5967\n",
      "Epoch 3/10\n",
      "\u001b[1m30/30\u001b[0m \u001b[32m━━━━━━━━━━━━━━━━━━━━\u001b[0m\u001b[37m\u001b[0m \u001b[1m75s\u001b[0m 2s/step - accuracy: 0.2908 - loss: 0.6242 - val_accuracy: 0.3420 - val_loss: 0.6170\n",
      "Epoch 4/10\n",
      "\u001b[1m30/30\u001b[0m \u001b[32m━━━━━━━━━━━━━━━━━━━━\u001b[0m\u001b[37m\u001b[0m \u001b[1m74s\u001b[0m 2s/step - accuracy: 0.2965 - loss: 0.6235 - val_accuracy: 0.3420 - val_loss: 0.5945\n",
      "Epoch 5/10\n",
      "\u001b[1m30/30\u001b[0m \u001b[32m━━━━━━━━━━━━━━━━━━━━\u001b[0m\u001b[37m\u001b[0m \u001b[1m76s\u001b[0m 3s/step - accuracy: 0.3177 - loss: 0.6145 - val_accuracy: 0.3420 - val_loss: 0.5980\n",
      "Epoch 6/10\n",
      "\u001b[1m30/30\u001b[0m \u001b[32m━━━━━━━━━━━━━━━━━━━━\u001b[0m\u001b[37m\u001b[0m \u001b[1m74s\u001b[0m 2s/step - accuracy: 0.3400 - loss: 0.6000 - val_accuracy: 0.3420 - val_loss: 0.6077\n",
      "Epoch 7/10\n",
      "\u001b[1m30/30\u001b[0m \u001b[32m━━━━━━━━━━━━━━━━━━━━\u001b[0m\u001b[37m\u001b[0m \u001b[1m74s\u001b[0m 2s/step - accuracy: 0.3145 - loss: 0.6211 - val_accuracy: 0.3420 - val_loss: 0.5937\n",
      "Epoch 8/10\n",
      "\u001b[1m30/30\u001b[0m \u001b[32m━━━━━━━━━━━━━━━━━━━━\u001b[0m\u001b[37m\u001b[0m \u001b[1m74s\u001b[0m 2s/step - accuracy: 0.2980 - loss: 0.6238 - val_accuracy: 0.3420 - val_loss: 0.5911\n",
      "Epoch 9/10\n",
      "\u001b[1m30/30\u001b[0m \u001b[32m━━━━━━━━━━━━━━━━━━━━\u001b[0m\u001b[37m\u001b[0m \u001b[1m74s\u001b[0m 2s/step - accuracy: 0.3114 - loss: 0.6205 - val_accuracy: 0.3420 - val_loss: 0.5906\n",
      "Epoch 10/10\n",
      "\u001b[1m30/30\u001b[0m \u001b[32m━━━━━━━━━━━━━━━━━━━━\u001b[0m\u001b[37m\u001b[0m \u001b[1m74s\u001b[0m 2s/step - accuracy: 0.2915 - loss: 0.6264 - val_accuracy: 0.3420 - val_loss: 0.5909\n",
      "\u001b[1m2/2\u001b[0m \u001b[32m━━━━━━━━━━━━━━━━━━━━\u001b[0m\u001b[37m\u001b[0m \u001b[1m4s\u001b[0m 2s/step - accuracy: 0.3415 - loss: 0.5926\n",
      "Test Loss: 0.5909\n",
      "Test Accuracy: 0.3420\n",
      "input_layer\n",
      "conv2d\n",
      "conv2d_1\n",
      "max_pooling2d\n",
      "conv2d_2\n",
      "conv2d_3\n",
      "max_pooling2d_1\n",
      "conv2d_4\n",
      "conv2d_5\n",
      "up_sampling2d\n",
      "concatenate\n",
      "conv2d_6\n",
      "conv2d_7\n",
      "up_sampling2d_1\n",
      "concatenate_1\n",
      "conv2d_8\n",
      "conv2d_9\n",
      "conv2d_10\n"
     ]
    }
   ],
   "source": [
    "import tensorflow as tf\n",
    "from tensorflow.keras.models import Model\n",
    "from tensorflow.keras.layers import Input, Conv2D, MaxPooling2D, UpSampling2D, concatenate\n",
    "\n",
    "# Define input shape\n",
    "input_shape = (128, 128, 1)\n",
    "\n",
    "def basic_unet(input_shape):\n",
    "    inputs = Input(input_shape)\n",
    "\n",
    "    # Downscaling path\n",
    "    conv1 = Conv2D(64, 3, activation='relu', padding='same')(inputs)\n",
    "    conv1 = Conv2D(64, 3, activation='relu', padding='same')(conv1)\n",
    "    pool1 = MaxPooling2D(pool_size=(2, 2))(conv1)\n",
    "\n",
    "    conv2 = Conv2D(128, 3, activation='relu', padding='same')(pool1)\n",
    "    conv2 = Conv2D(128, 3, activation='relu', padding='same')(conv2)\n",
    "    pool2 = MaxPooling2D(pool_size=(2, 2))(conv2)\n",
    "\n",
    "    # Bottleneck\n",
    "    conv3 = Conv2D(256, 3, activation='relu', padding='same')(pool2)\n",
    "    conv3 = Conv2D(256, 3, activation='relu', padding='same')(conv3)\n",
    "\n",
    "    # Upscaling path\n",
    "    up1 = UpSampling2D(size=(2, 2))(conv3)\n",
    "    up1 = concatenate([up1, conv2], axis=3)\n",
    "    conv4 = Conv2D(128, 3, activation='relu', padding='same')(up1)\n",
    "    conv4 = Conv2D(128, 3, activation='relu', padding='same')(conv4)\n",
    "\n",
    "    up2 = UpSampling2D(size=(2, 2))(conv4)\n",
    "    up2 = concatenate([up2, conv1], axis=3)\n",
    "    conv5 = Conv2D(64, 3, activation='relu', padding='same')(up2)\n",
    "    conv5 = Conv2D(64, 3, activation='relu', padding='same')(conv5)\n",
    "\n",
    "    outputs = Conv2D(1, 1, activation='sigmoid')(conv5)\n",
    "\n",
    "    model = Model(inputs=inputs, outputs=outputs)\n",
    "    return model\n",
    "\n",
    "# Create and compile U-Net model\n",
    "unet_model = basic_unet(input_shape)\n",
    "unet_model.compile(optimizer='adam', loss='binary_crossentropy', metrics=['accuracy'])\n",
    "\n",
    "# Train the U-Net model\n",
    "history = unet_model.fit(X_train, y_train, validation_data=(X_test, y_test), epochs=10, batch_size=8)\n",
    "\n",
    "# Evaluate the U-Net model\n",
    "loss, accuracy = unet_model.evaluate(X_test, y_test)\n",
    "print(f'Test Loss: {loss:.4f}')\n",
    "print(f'Test Accuracy: {accuracy:.4f}')\n",
    "\n",
    "# Print layer names for feature extraction\n",
    "for layer in unet_model.layers:\n",
    "    print(layer.name)\n"
   ]
  },
  {
   "cell_type": "code",
   "execution_count": 32,
   "id": "a5156e1b-e79d-47b2-bb04-8b9276a8a952",
   "metadata": {},
   "outputs": [
    {
     "name": "stdout",
     "output_type": "stream",
     "text": [
      "\u001b[1m8/8\u001b[0m \u001b[32m━━━━━━━━━━━━━━━━━━━━\u001b[0m\u001b[37m\u001b[0m \u001b[1m5s\u001b[0m 626ms/step\n",
      "\u001b[1m2/2\u001b[0m \u001b[32m━━━━━━━━━━━━━━━━━━━━\u001b[0m\u001b[37m\u001b[0m \u001b[1m1s\u001b[0m 558ms/step\n",
      "Train features shape: (239, 32, 32, 256)\n",
      "Test features shape: (60, 32, 32, 256)\n"
     ]
    }
   ],
   "source": [
    "from tensorflow.keras.models import Model\n",
    "\n",
    "# Extract features from a specific layer\n",
    "feature_layer = unet_model.get_layer('conv2d_5').output\n",
    "feature_extractor = Model(inputs=unet_model.input, outputs=feature_layer)\n",
    "\n",
    "# Get features from training and testing data\n",
    "train_features = feature_extractor.predict(X_train)\n",
    "test_features = feature_extractor.predict(X_test)\n",
    "\n",
    "print(f\"Train features shape: {train_features.shape}\")\n",
    "print(f\"Test features shape: {test_features.shape}\")\n"
   ]
  },
  {
   "cell_type": "code",
   "execution_count": 33,
   "id": "577f162a-1ba9-44ca-a49e-8113d783b28f",
   "metadata": {},
   "outputs": [
    {
     "name": "stdout",
     "output_type": "stream",
     "text": [
      "Flattened train features shape: (239, 262144)\n",
      "Flattened test features shape: (60, 262144)\n"
     ]
    }
   ],
   "source": [
    "# Flatten the features\n",
    "train_features_flattened = train_features.reshape(train_features.shape[0], -1)\n",
    "test_features_flattened = test_features.reshape(test_features.shape[0], -1)\n",
    "\n",
    "print(f\"Flattened train features shape: {train_features_flattened.shape}\")\n",
    "print(f\"Flattened test features shape: {test_features_flattened.shape}\")\n"
   ]
  },
  {
   "cell_type": "code",
   "execution_count": 34,
   "id": "5d85e6bd-cf2b-4c9e-bd39-e507b1c1a6c0",
   "metadata": {},
   "outputs": [
    {
     "name": "stdout",
     "output_type": "stream",
     "text": [
      "Shape of y_train_one_hot: (3915776, 2)\n",
      "Shape of y_test_one_hot: (983040, 2)\n"
     ]
    }
   ],
   "source": [
    "from tensorflow.keras.utils import to_categorical\n",
    "\n",
    "# Convert masks to categorical format (binary classification)\n",
    "num_classes = 2  # For binary classification\n",
    "y_train_one_hot = to_categorical(y_train.flatten(), num_classes=num_classes)\n",
    "y_test_one_hot = to_categorical(y_test.flatten(), num_classes=num_classes)\n",
    "\n",
    "print(f\"Shape of y_train_one_hot: {y_train_one_hot.shape}\")\n",
    "print(f\"Shape of y_test_one_hot: {y_test_one_hot.shape}\")\n"
   ]
  },
  {
   "cell_type": "code",
   "execution_count": 35,
   "id": "fb6e7ab3-a686-4550-a091-0e28b672c637",
   "metadata": {},
   "outputs": [],
   "source": [
    "import tensorflow as tf\n",
    "from tensorflow.keras.models import Model\n",
    "from tensorflow.keras.layers import Input, Dense, Dropout\n",
    "\n",
    "def create_vit_model(input_shape, num_classes):\n",
    "    inputs = Input(shape=input_shape)\n",
    "    x = Dense(512, activation='relu')(inputs)\n",
    "    x = Dropout(0.5)(x)\n",
    "    x = Dense(256, activation='relu')(x)\n",
    "    x = Dropout(0.5)(x)\n",
    "    x = Dense(128, activation='relu')(x)\n",
    "    outputs = Dense(num_classes, activation='softmax')(x)\n",
    "\n",
    "    model = Model(inputs=inputs, outputs=outputs)\n",
    "    return model\n",
    "\n",
    "# Define input shape for ViT\n",
    "input_shape_vit = (train_features_flattened.shape[1],)  # Flattened feature shape\n",
    "num_classes = y_train_one_hot.shape[1]  # Number of classes\n",
    "\n",
    "# Create and compile Vision Transformer model\n",
    "vit_model = create_vit_model(input_shape_vit, num_classes)\n",
    "vit_model.compile(optimizer='adam', loss='categorical_crossentropy', metrics=['accuracy'])\n"
   ]
  },
  {
   "cell_type": "code",
   "execution_count": 38,
   "id": "b5060f62-5430-4d7f-a4ae-43b53725ec4f",
   "metadata": {},
   "outputs": [
    {
     "name": "stdout",
     "output_type": "stream",
     "text": [
      "Shape of y_train_labels: (239, 2)\n",
      "Shape of y_test_labels: (60, 2)\n"
     ]
    }
   ],
   "source": [
    "# Convert masks to categorical labels\n",
    "from tensorflow.keras.utils import to_categorical\n",
    "\n",
    "def prepare_labels(masks):\n",
    "    masks_flattened = masks.reshape(masks.shape[0], -1)  # Flatten the masks for each image\n",
    "    labels = np.array([np.argmax(np.bincount(mask.astype(int).flatten())) for mask in masks_flattened])  # Majority class as label\n",
    "    return to_categorical(labels, num_classes=num_classes)\n",
    "\n",
    "y_train_labels = prepare_labels(y_train)\n",
    "y_test_labels = prepare_labels(y_test)\n",
    "\n",
    "# Verify shapes\n",
    "print(f\"Shape of y_train_labels: {y_train_labels.shape}\")\n",
    "print(f\"Shape of y_test_labels: {y_test_labels.shape}\")\n"
   ]
  },
  {
   "cell_type": "code",
   "execution_count": 39,
   "id": "dfc5a16f-bedb-4d07-97c3-a27433a07f42",
   "metadata": {},
   "outputs": [
    {
     "name": "stdout",
     "output_type": "stream",
     "text": [
      "Epoch 1/10\n",
      "\u001b[1m30/30\u001b[0m \u001b[32m━━━━━━━━━━━━━━━━━━━━\u001b[0m\u001b[37m\u001b[0m \u001b[1m52s\u001b[0m 2s/step - accuracy: 0.7016 - loss: 0.7183 - val_accuracy: 0.7333 - val_loss: 0.6813\n",
      "Epoch 2/10\n",
      "\u001b[1m30/30\u001b[0m \u001b[32m━━━━━━━━━━━━━━━━━━━━\u001b[0m\u001b[37m\u001b[0m \u001b[1m49s\u001b[0m 2s/step - accuracy: 0.7200 - loss: 0.6764 - val_accuracy: 0.7333 - val_loss: 0.6786\n",
      "Epoch 3/10\n",
      "\u001b[1m30/30\u001b[0m \u001b[32m━━━━━━━━━━━━━━━━━━━━\u001b[0m\u001b[37m\u001b[0m \u001b[1m49s\u001b[0m 2s/step - accuracy: 0.7439 - loss: 0.6659 - val_accuracy: 0.7333 - val_loss: 0.6326\n",
      "Epoch 4/10\n",
      "\u001b[1m30/30\u001b[0m \u001b[32m━━━━━━━━━━━━━━━━━━━━\u001b[0m\u001b[37m\u001b[0m \u001b[1m49s\u001b[0m 2s/step - accuracy: 0.7607 - loss: 0.5338 - val_accuracy: 0.7333 - val_loss: 0.6021\n",
      "Epoch 5/10\n",
      "\u001b[1m30/30\u001b[0m \u001b[32m━━━━━━━━━━━━━━━━━━━━\u001b[0m\u001b[37m\u001b[0m \u001b[1m49s\u001b[0m 2s/step - accuracy: 0.7110 - loss: 0.6191 - val_accuracy: 0.7333 - val_loss: 0.6331\n",
      "Epoch 6/10\n",
      "\u001b[1m30/30\u001b[0m \u001b[32m━━━━━━━━━━━━━━━━━━━━\u001b[0m\u001b[37m\u001b[0m \u001b[1m49s\u001b[0m 2s/step - accuracy: 0.7575 - loss: 0.6009 - val_accuracy: 0.7333 - val_loss: 0.6380\n",
      "Epoch 7/10\n",
      "\u001b[1m30/30\u001b[0m \u001b[32m━━━━━━━━━━━━━━━━━━━━\u001b[0m\u001b[37m\u001b[0m \u001b[1m49s\u001b[0m 2s/step - accuracy: 0.6134 - loss: 0.6688 - val_accuracy: 0.7333 - val_loss: 0.6298\n",
      "Epoch 8/10\n",
      "\u001b[1m30/30\u001b[0m \u001b[32m━━━━━━━━━━━━━━━━━━━━\u001b[0m\u001b[37m\u001b[0m \u001b[1m49s\u001b[0m 2s/step - accuracy: 0.7019 - loss: 0.6123 - val_accuracy: 0.7333 - val_loss: 0.5910\n",
      "Epoch 9/10\n",
      "\u001b[1m30/30\u001b[0m \u001b[32m━━━━━━━━━━━━━━━━━━━━\u001b[0m\u001b[37m\u001b[0m \u001b[1m49s\u001b[0m 2s/step - accuracy: 0.7406 - loss: 0.5766 - val_accuracy: 0.7333 - val_loss: 0.5931\n",
      "Epoch 10/10\n",
      "\u001b[1m30/30\u001b[0m \u001b[32m━━━━━━━━━━━━━━━━━━━━\u001b[0m\u001b[37m\u001b[0m \u001b[1m50s\u001b[0m 2s/step - accuracy: 0.7559 - loss: 0.5783 - val_accuracy: 0.7333 - val_loss: 0.5970\n"
     ]
    }
   ],
   "source": [
    "# Train the Vision Transformer model\n",
    "history = vit_model.fit(\n",
    "    train_features_flattened, \n",
    "    y_train_labels, \n",
    "    validation_data=(test_features_flattened, y_test_labels), \n",
    "    epochs=10, \n",
    "    batch_size=8\n",
    ")\n"
   ]
  },
  {
   "cell_type": "code",
   "execution_count": 41,
   "id": "72c44136-44ee-4752-af92-ba1fef7f4f5e",
   "metadata": {},
   "outputs": [
    {
     "name": "stdout",
     "output_type": "stream",
     "text": [
      "\u001b[1m2/2\u001b[0m \u001b[32m━━━━━━━━━━━━━━━━━━━━\u001b[0m\u001b[37m\u001b[0m \u001b[1m0s\u001b[0m 107ms/step - accuracy: 0.7389 - loss: 0.5971\n",
      "Test Loss: 0.5970\n",
      "Test Accuracy: 0.7333\n"
     ]
    }
   ],
   "source": [
    "# Evaluate the Vision Transformer model\n",
    "loss, accuracy = vit_model.evaluate(test_features_flattened, y_test_labels)\n",
    "print(f'Test Loss: {loss:.4f}')\n",
    "print(f'Test Accuracy: {accuracy:.4f}')\n"
   ]
  },
  {
   "cell_type": "code",
   "execution_count": 42,
   "id": "f53b99e1-f7bc-45cf-a464-46553b2096b8",
   "metadata": {},
   "outputs": [
    {
     "name": "stderr",
     "output_type": "stream",
     "text": [
      "WARNING:absl:You are saving your model as an HDF5 file via `model.save()` or `keras.saving.save_model(model)`. This file format is considered legacy. We recommend using instead the native Keras format, e.g. `model.save('my_model.keras')` or `keras.saving.save_model(model, 'my_model.keras')`. \n"
     ]
    }
   ],
   "source": [
    "# Save the ViT model\n",
    "vit_model.save('vit_model_v1_unet.h5')\n"
   ]
  },
  {
   "cell_type": "code",
   "execution_count": 44,
   "id": "4a1ba200-b3c8-468c-bba9-dcb0a2731f10",
   "metadata": {},
   "outputs": [
    {
     "name": "stderr",
     "output_type": "stream",
     "text": [
      "WARNING:absl:Compiled the loaded model, but the compiled metrics have yet to be built. `model.compile_metrics` will be empty until you train or evaluate the model.\n"
     ]
    },
    {
     "name": "stdout",
     "output_type": "stream",
     "text": [
      "\u001b[1m2/2\u001b[0m \u001b[32m━━━━━━━━━━━━━━━━━━━━\u001b[0m\u001b[37m\u001b[0m \u001b[1m0s\u001b[0m 65ms/step - accuracy: 0.7389 - loss: 0.5971\n",
      "Loaded Model Test Loss: 0.5970\n",
      "Loaded Model Test Accuracy: 0.7333\n"
     ]
    }
   ],
   "source": [
    "from tensorflow.keras.models import load_model\n",
    "\n",
    "# Load the saved ViT model\n",
    "loaded_vit_model = load_model('vit_model_v1_unet.h5')\n",
    "\n",
    "# Evaluate the loaded model to ensure it's working correctly\n",
    "loss, accuracy = loaded_vit_model.evaluate(test_features_flattened, y_test_labels)\n",
    "print(f'Loaded Model Test Loss: {loss:.4f}')\n",
    "print(f'Loaded Model Test Accuracy: {accuracy:.4f}')\n"
   ]
  },
  {
   "cell_type": "code",
   "execution_count": 45,
   "id": "974471b6-8bb3-4ca2-8cbe-e15320cf5f1c",
   "metadata": {},
   "outputs": [
    {
     "name": "stderr",
     "output_type": "stream",
     "text": [
      "WARNING:absl:Compiled the loaded model, but the compiled metrics have yet to be built. `model.compile_metrics` will be empty until you train or evaluate the model.\n"
     ]
    },
    {
     "name": "stdout",
     "output_type": "stream",
     "text": [
      "\u001b[1m2/2\u001b[0m \u001b[32m━━━━━━━━━━━━━━━━━━━━\u001b[0m\u001b[37m\u001b[0m \u001b[1m0s\u001b[0m 65ms/step - accuracy: 0.7389 - loss: 0.5971\n",
      "Loaded Model Test Loss: 0.5970\n",
      "Loaded Model Test Accuracy: 0.7333\n"
     ]
    }
   ],
   "source": [
    "from tensorflow.keras.models import load_model\n",
    "\n",
    "# Load the saved ViT model\n",
    "loaded_vit_model = load_model('vit_model_v1_unet.h5')\n",
    "\n",
    "# Evaluate the loaded model to ensure it's working correctly\n",
    "loss, accuracy = loaded_vit_model.evaluate(test_features_flattened, y_test_labels)\n",
    "print(f'Loaded Model Test Loss: {loss:.4f}')\n",
    "print(f'Loaded Model Test Accuracy: {accuracy:.4f}')\n"
   ]
  },
  {
   "cell_type": "code",
   "execution_count": 46,
   "id": "e410e7f1-ee32-4db1-a1fa-e26ebc5d2b74",
   "metadata": {},
   "outputs": [
    {
     "name": "stderr",
     "output_type": "stream",
     "text": [
      "WARNING:absl:Compiled the loaded model, but the compiled metrics have yet to be built. `model.compile_metrics` will be empty until you train or evaluate the model.\n"
     ]
    }
   ],
   "source": [
    "import tensorflow as tf\n",
    "\n",
    "# Load the saved model\n",
    "loaded_model = tf.keras.models.load_model('vit_model_v1_unet.h5')\n"
   ]
  },
  {
   "cell_type": "code",
   "execution_count": 47,
   "id": "39704442-2fcf-43b1-b1db-6b02cb1d188f",
   "metadata": {},
   "outputs": [
    {
     "data": {
      "image/png": "[encoded data removed]",
      "text/plain": [
       "<Figure size 1200x400 with 2 Axes>"
      ]
     },
     "metadata": {},
     "output_type": "display_data"
    }
   ],
   "source": [
    "import matplotlib.pyplot as plt\n",
    "\n",
    "# Assuming you have the history from training\n",
    "def plot_training_history(history):\n",
    "    # Plot training & validation accuracy values\n",
    "    plt.figure(figsize=(12, 4))\n",
    "    \n",
    "    plt.subplot(1, 2, 1)\n",
    "    plt.plot(history.history['accuracy'], label='Train Accuracy')\n",
    "    plt.plot(history.history['val_accuracy'], label='Validation Accuracy')\n",
    "    plt.title('Model Accuracy')\n",
    "    plt.ylabel('Accuracy')\n",
    "    plt.xlabel('Epoch')\n",
    "    plt.legend(loc='upper left')\n",
    "    \n",
    "    # Plot training & validation loss values\n",
    "    plt.subplot(1, 2, 2)\n",
    "    plt.plot(history.history['loss'], label='Train Loss')\n",
    "    plt.plot(history.history['val_loss'], label='Validation Loss')\n",
    "    plt.title('Model Loss')\n",
    "    plt.ylabel('Loss')\n",
    "    plt.xlabel('Epoch')\n",
    "    plt.legend(loc='upper left')\n",
    "    \n",
    "    plt.show()\n",
    "\n",
    "# Plot the history\n",
    "plot_training_history(history)\n"
   ]
  },
  {
   "cell_type": "code",
   "execution_count": null,
   "id": "a906d4c4-0d2b-4564-a456-3c14b90d9694",
   "metadata": {},
   "outputs": [],
   "source": []
  }
 ],
 "metadata": {
  "kernelspec": {
   "display_name": "Python 3 (ipykernel)",
   "language": "python",
   "name": "python3"
  },
  "language_info": {
   "codemirror_mode": {
    "name": "ipython",
    "version": 3
   },
   "file_extension": ".py",
   "mimetype": "text/x-python",
   "name": "python",
   "nbconvert_exporter": "python",
   "pygments_lexer": "ipython3",
   "version": "3.10.12"
  }
 },
 "nbformat": 4,
 "nbformat_minor": 5
}
