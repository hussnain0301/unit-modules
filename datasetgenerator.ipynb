{
 "cells": [
  {
   "cell_type": "code",
   "execution_count": 1,
   "id": "8f8435bf-266f-4f9f-9074-b5f680f8b262",
   "metadata": {},
   "outputs": [
    {
     "name": "stdout",
     "output_type": "stream",
     "text": [
      "Number of selected directories: 1500\n"
     ]
    }
   ],
   "source": [
    "import os\n",
    "import random\n",
    "\n",
    "# Set the parent directory where all subdirectories are located\n",
    "parent_dir = 'jpeg'  # Replace with your actual parent directory path\n",
    "\n",
    "# List all subdirectories\n",
    "all_subdirs = [os.path.join(parent_dir, subdir) for subdir in os.listdir(parent_dir) if os.path.isdir(os.path.join(parent_dir, subdir))]\n",
    "\n",
    "# Randomly select 1500 subdirectories\n",
    "selected_directories = random.sample(all_subdirs, 1500)\n",
    "\n",
    "# Print the number of selected directories to verify\n",
    "print(f\"Number of selected directories: {len(selected_directories)}\")\n"
   ]
  },
  {
   "cell_type": "code",
   "execution_count": 2,
   "id": "0c55d711-2070-4eb3-a974-d58c290b1570",
   "metadata": {},
   "outputs": [
    {
     "name": "stdout",
     "output_type": "stream",
     "text": [
      "Selected and processed images and masks have been copied to selected_images_1500\n"
     ]
    }
   ],
   "source": [
    "import shutil\n",
    "from PIL import Image, ImageOps\n",
    "\n",
    "# Create a destination directory for images and masks\n",
    "destination_dir = 'selected_images_1500'  # Name of the new folder\n",
    "os.makedirs(destination_dir, exist_ok=True)\n",
    "\n",
    "# Function to process each directory\n",
    "for directory in selected_directories:\n",
    "    mask_files = [f for f in os.listdir(directory) if f.startswith('2')]\n",
    "    orig_files = [f for f in os.listdir(directory) if f.startswith('1')]\n",
    "\n",
    "    for orig_file in orig_files:\n",
    "        src_orig_path = os.path.join(directory, orig_file)\n",
    "        dst_orig_path = os.path.join(destination_dir, orig_file)\n",
    "        shutil.copy(src_orig_path, dst_orig_path)\n",
    "        \n",
    "        # Check if the corresponding mask exists; if not, generate it\n",
    "        corresponding_mask_file = '2' + orig_file[1:]\n",
    "        if corresponding_mask_file not in mask_files:\n",
    "            orig_image = Image.open(src_orig_path).convert('L')\n",
    "            mask = ImageOps.invert(orig_image)  # Example mask generation by inverting the original image\n",
    "            mask = mask.resize((128, 128))  # Resize to match the original images\n",
    "            dst_mask_path = os.path.join(destination_dir, corresponding_mask_file)\n",
    "            mask.save(dst_mask_path)\n",
    "        else:\n",
    "            src_mask_path = os.path.join(directory, corresponding_mask_file)\n",
    "            dst_mask_path = os.path.join(destination_dir, corresponding_mask_file)\n",
    "            shutil.copy(src_mask_path, dst_mask_path)\n",
    "\n",
    "print(f\"Selected and processed images and masks have been copied to {destination_dir}\")\n"
   ]
  },
  {
   "cell_type": "code",
   "execution_count": null,
   "id": "e55d2284-9cbd-416f-96bf-0df810bde147",
   "metadata": {},
   "outputs": [],
   "source": []
  }
 ],
 "metadata": {
  "kernelspec": {
   "display_name": "Python 3 (ipykernel)",
   "language": "python",
   "name": "python3"
  },
  "language_info": {
   "codemirror_mode": {
    "name": "ipython",
    "version": 3
   },
   "file_extension": ".py",
   "mimetype": "text/x-python",
   "name": "python",
   "nbconvert_exporter": "python",
   "pygments_lexer": "ipython3",
   "version": "3.10.12"
  }
 },
 "nbformat": 4,
 "nbformat_minor": 5
}
