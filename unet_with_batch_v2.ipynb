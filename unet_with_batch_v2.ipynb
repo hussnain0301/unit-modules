{
 "cells": [
  {
   "cell_type": "code",
   "execution_count": 1,
   "id": "706f5533-45cd-41c6-8be7-72fa9d51aaed",
   "metadata": {},
   "outputs": [
    {
     "name": "stdout",
     "output_type": "stream",
     "text": [
      "Number of images and masks are consistent.\n"
     ]
    }
   ],
   "source": [
    "import os\n",
    "import numpy as np\n",
    "from PIL import Image\n",
    "from sklearn.model_selection import train_test_split\n",
    "\n",
    "def load_images_and_masks(directory):\n",
    "    images = []\n",
    "    masks = []\n",
    "\n",
    "    for filename in os.listdir(directory):\n",
    "        filepath = os.path.join(directory, filename)\n",
    "        \n",
    "        if filename.startswith('1'):  # Original images\n",
    "            image = Image.open(filepath).convert('L')\n",
    "            image = image.resize((128, 128))\n",
    "            image = np.array(image) / 255.0\n",
    "            images.append(image)\n",
    "        \n",
    "        elif filename.startswith('2'):  # Masks\n",
    "            mask = Image.open(filepath).convert('L')\n",
    "            mask = mask.resize((128, 128))\n",
    "            mask = np.array(mask) / 255.0\n",
    "            masks.append(mask)\n",
    "    \n",
    "    return np.array(images), np.array(masks)\n",
    "\n",
    "selected_images_dir = 'selected_images_1500'\n",
    "images, masks = load_images_and_masks(selected_images_dir)\n",
    "\n",
    "# Check consistency\n",
    "def check_consistency(images, masks):\n",
    "    if len(images) != len(masks):\n",
    "        print(\"Number of images and masks are not consistent.\")\n",
    "        return False\n",
    "    else:\n",
    "        print(\"Number of images and masks are consistent.\")\n",
    "        return True\n",
    "\n",
    "if not check_consistency(images, masks):\n",
    "    exit()\n",
    "\n",
    "# Split the dataset into training and testing sets\n",
    "X_train, X_test, y_train, y_test = train_test_split(images, masks, test_size=0.2, random_state=42)\n",
    "\n",
    "\n"
   ]
  },
  {
   "cell_type": "code",
   "execution_count": 3,
   "id": "4ac57685-973d-4e53-98cb-194fbcd802ec",
   "metadata": {},
   "outputs": [
    {
     "name": "stdout",
     "output_type": "stream",
     "text": [
      "Epoch 1/15\n",
      "\u001b[1m60/60\u001b[0m \u001b[32m━━━━━━━━━━━━━━━━━━━━\u001b[0m\u001b[37m\u001b[0m \u001b[1m103s\u001b[0m 2s/step - accuracy: 0.1925 - loss: 0.7786 - val_accuracy: 0.3420 - val_loss: 0.6108\n",
      "Epoch 2/15\n",
      "\u001b[1m60/60\u001b[0m \u001b[32m━━━━━━━━━━━━━━━━━━━━\u001b[0m\u001b[37m\u001b[0m \u001b[1m94s\u001b[0m 2s/step - accuracy: 0.2771 - loss: 0.6392 - val_accuracy: 0.3420 - val_loss: 0.6053\n",
      "Epoch 3/15\n",
      "\u001b[1m60/60\u001b[0m \u001b[32m━━━━━━━━━━━━━━━━━━━━\u001b[0m\u001b[37m\u001b[0m \u001b[1m94s\u001b[0m 2s/step - accuracy: 0.2749 - loss: 0.6297 - val_accuracy: 0.3420 - val_loss: 0.6048\n",
      "Epoch 4/15\n",
      "\u001b[1m60/60\u001b[0m \u001b[32m━━━━━━━━━━━━━━━━━━━━\u001b[0m\u001b[37m\u001b[0m \u001b[1m94s\u001b[0m 2s/step - accuracy: 0.2969 - loss: 0.6237 - val_accuracy: 0.2144 - val_loss: 0.6645\n",
      "Epoch 5/15\n",
      "\u001b[1m60/60\u001b[0m \u001b[32m━━━━━━━━━━━━━━━━━━━━\u001b[0m\u001b[37m\u001b[0m \u001b[1m94s\u001b[0m 2s/step - accuracy: 0.3074 - loss: 0.6113 - val_accuracy: 0.3420 - val_loss: 0.6025\n",
      "Epoch 6/15\n",
      "\u001b[1m60/60\u001b[0m \u001b[32m━━━━━━━━━━━━━━━━━━━━\u001b[0m\u001b[37m\u001b[0m \u001b[1m94s\u001b[0m 2s/step - accuracy: 0.3157 - loss: 0.6124 - val_accuracy: 0.3420 - val_loss: 0.6202\n",
      "Epoch 7/15\n",
      "\u001b[1m60/60\u001b[0m \u001b[32m━━━━━━━━━━━━━━━━━━━━\u001b[0m\u001b[37m\u001b[0m \u001b[1m94s\u001b[0m 2s/step - accuracy: 0.2924 - loss: 0.6211 - val_accuracy: 0.3420 - val_loss: 0.5962\n",
      "Epoch 8/15\n",
      "\u001b[1m60/60\u001b[0m \u001b[32m━━━━━━━━━━━━━━━━━━━━\u001b[0m\u001b[37m\u001b[0m \u001b[1m94s\u001b[0m 2s/step - accuracy: 0.2937 - loss: 0.6248 - val_accuracy: 0.3420 - val_loss: 0.5978\n",
      "Epoch 9/15\n",
      "\u001b[1m60/60\u001b[0m \u001b[32m━━━━━━━━━━━━━━━━━━━━\u001b[0m\u001b[37m\u001b[0m \u001b[1m94s\u001b[0m 2s/step - accuracy: 0.3080 - loss: 0.6181 - val_accuracy: 0.3420 - val_loss: 0.6000\n",
      "Epoch 10/15\n",
      "\u001b[1m60/60\u001b[0m \u001b[32m━━━━━━━━━━━━━━━━━━━━\u001b[0m\u001b[37m\u001b[0m \u001b[1m94s\u001b[0m 2s/step - accuracy: 0.3026 - loss: 0.6204 - val_accuracy: 0.3420 - val_loss: 0.5913\n",
      "Epoch 11/15\n",
      "\u001b[1m60/60\u001b[0m \u001b[32m━━━━━━━━━━━━━━━━━━━━\u001b[0m\u001b[37m\u001b[0m \u001b[1m94s\u001b[0m 2s/step - accuracy: 0.3302 - loss: 0.6097 - val_accuracy: 0.3420 - val_loss: 0.5971\n",
      "Epoch 12/15\n",
      "\u001b[1m60/60\u001b[0m \u001b[32m━━━━━━━━━━━━━━━━━━━━\u001b[0m\u001b[37m\u001b[0m \u001b[1m94s\u001b[0m 2s/step - accuracy: 0.2915 - loss: 0.6220 - val_accuracy: 0.3420 - val_loss: 0.6072\n",
      "Epoch 13/15\n",
      "\u001b[1m60/60\u001b[0m \u001b[32m━━━━━━━━━━━━━━━━━━━━\u001b[0m\u001b[37m\u001b[0m \u001b[1m94s\u001b[0m 2s/step - accuracy: 0.2823 - loss: 0.6283 - val_accuracy: 0.3420 - val_loss: 0.6117\n",
      "Epoch 14/15\n",
      "\u001b[1m60/60\u001b[0m \u001b[32m━━━━━━━━━━━━━━━━━━━━\u001b[0m\u001b[37m\u001b[0m \u001b[1m98s\u001b[0m 2s/step - accuracy: 0.2687 - loss: 0.6196 - val_accuracy: 0.3420 - val_loss: 0.6086\n",
      "Epoch 15/15\n",
      "\u001b[1m60/60\u001b[0m \u001b[32m━━━━━━━━━━━━━━━━━━━━\u001b[0m\u001b[37m\u001b[0m \u001b[1m96s\u001b[0m 2s/step - accuracy: 0.3333 - loss: 0.5962 - val_accuracy: 0.3420 - val_loss: 0.6088\n",
      "\u001b[1m2/2\u001b[0m \u001b[32m━━━━━━━━━━━━━━━━━━━━\u001b[0m\u001b[37m\u001b[0m \u001b[1m5s\u001b[0m 2s/step - accuracy: 0.3415 - loss: 0.6092\n",
      "Test Loss: 0.6088\n",
      "Test Accuracy: 0.3420\n",
      "input_layer\n",
      "conv2d\n",
      "batch_normalization\n",
      "conv2d_1\n",
      "batch_normalization_1\n",
      "max_pooling2d\n",
      "conv2d_2\n",
      "batch_normalization_2\n",
      "conv2d_3\n",
      "batch_normalization_3\n",
      "max_pooling2d_1\n",
      "conv2d_4\n",
      "batch_normalization_4\n",
      "conv2d_5\n",
      "batch_normalization_5\n",
      "up_sampling2d\n",
      "concatenate\n",
      "conv2d_6\n",
      "batch_normalization_6\n",
      "conv2d_7\n",
      "batch_normalization_7\n",
      "up_sampling2d_1\n",
      "concatenate_1\n",
      "conv2d_8\n",
      "batch_normalization_8\n",
      "conv2d_9\n",
      "batch_normalization_9\n",
      "conv2d_10\n"
     ]
    }
   ],
   "source": [
    "import tensorflow as tf\n",
    "from tensorflow.keras.models import Model\n",
    "from tensorflow.keras.layers import Input, Conv2D, MaxPooling2D, UpSampling2D, concatenate, BatchNormalization\n",
    "\n",
    "def unet_with_batch_norm(input_shape):\n",
    "    inputs = Input(input_shape)\n",
    "\n",
    "    # Downscaling path\n",
    "    conv1 = Conv2D(64, 3, activation='relu', padding='same')(inputs)\n",
    "    conv1 = BatchNormalization()(conv1)\n",
    "    conv1 = Conv2D(64, 3, activation='relu', padding='same')(conv1)\n",
    "    conv1 = BatchNormalization()(conv1)\n",
    "    pool1 = MaxPooling2D(pool_size=(2, 2))(conv1)\n",
    "\n",
    "    conv2 = Conv2D(128, 3, activation='relu', padding='same')(pool1)\n",
    "    conv2 = BatchNormalization()(conv2)\n",
    "    conv2 = Conv2D(128, 3, activation='relu', padding='same')(conv2)\n",
    "    conv2 = BatchNormalization()(conv2)\n",
    "    pool2 = MaxPooling2D(pool_size=(2, 2))(conv2)\n",
    "\n",
    "    # Bottleneck\n",
    "    conv3 = Conv2D(256, 3, activation='relu', padding='same')(pool2)\n",
    "    conv3 = BatchNormalization()(conv3)\n",
    "    conv3 = Conv2D(256, 3, activation='relu', padding='same')(conv3)\n",
    "    conv3 = BatchNormalization()(conv3)\n",
    "\n",
    "    # Upscaling path\n",
    "    up1 = UpSampling2D(size=(2, 2))(conv3)\n",
    "    up1 = concatenate([up1, conv2], axis=3)\n",
    "    conv4 = Conv2D(128, 3, activation='relu', padding='same')(up1)\n",
    "    conv4 = BatchNormalization()(conv4)\n",
    "    conv4 = Conv2D(128, 3, activation='relu', padding='same')(conv4)\n",
    "    conv4 = BatchNormalization()(conv4)\n",
    "\n",
    "    up2 = UpSampling2D(size=(2, 2))(conv4)\n",
    "    up2 = concatenate([up2, conv1], axis=3)\n",
    "    conv5 = Conv2D(64, 3, activation='relu', padding='same')(up2)\n",
    "    conv5 = BatchNormalization()(conv5)\n",
    "    conv5 = Conv2D(64, 3, activation='relu', padding='same')(conv5)\n",
    "    conv5 = BatchNormalization()(conv5)\n",
    "\n",
    "    outputs = Conv2D(1, 1, activation='sigmoid')(conv5)\n",
    "\n",
    "    model = Model(inputs=inputs, outputs=outputs)\n",
    "    return model\n",
    "\n",
    "# Define input shape\n",
    "input_shape = (128, 128, 1)\n",
    "\n",
    "# Create and compile U-Net model\n",
    "unet_bn_model = unet_with_batch_norm(input_shape)\n",
    "unet_bn_model.compile(optimizer='adam', loss='binary_crossentropy', metrics=['accuracy'])\n",
    "\n",
    "# Train the U-Net model\n",
    "history = unet_bn_model.fit(X_train, y_train, validation_data=(X_test, y_test), epochs=15, batch_size=4)\n",
    "\n",
    "# Evaluate the U-Net model\n",
    "loss, accuracy = unet_bn_model.evaluate(X_test, y_test)\n",
    "print(f'Test Loss: {loss:.4f}')\n",
    "print(f'Test Accuracy: {accuracy:.4f}')\n",
    "\n",
    "# Print layer names for feature extraction\n",
    "for layer in unet_bn_model.layers:\n",
    "    print(layer.name)\n"
   ]
  },
  {
   "cell_type": "code",
   "execution_count": 9,
   "id": "5116e1d5-56be-44c9-b3b4-089da40b1048",
   "metadata": {},
   "outputs": [
    {
     "name": "stdout",
     "output_type": "stream",
     "text": [
      "\u001b[1m8/8\u001b[0m \u001b[32m━━━━━━━━━━━━━━━━━━━━\u001b[0m\u001b[37m\u001b[0m \u001b[1m7s\u001b[0m 775ms/step\n",
      "\u001b[1m2/2\u001b[0m \u001b[32m━━━━━━━━━━━━━━━━━━━━\u001b[0m\u001b[37m\u001b[0m \u001b[1m1s\u001b[0m 678ms/step\n",
      "Train features shape: (239, 32, 32, 256)\n",
      "Test features shape: (60, 32, 32, 256)\n"
     ]
    }
   ],
   "source": [
    "from tensorflow.keras.models import Model\n",
    "import numpy as np\n",
    "\n",
    "# Select the layer from which you want to extract features\n",
    "feature_layer_name = 'conv2d_5'\n",
    "feature_extractor_model = Model(inputs=unet_bn_model.input, outputs=unet_bn_model.get_layer(feature_layer_name).output)\n",
    "\n",
    "# Extract features for training and testing datasets\n",
    "train_features = feature_extractor_model.predict(X_train)\n",
    "test_features = feature_extractor_model.predict(X_test)\n",
    "\n",
    "# Check the shape of extracted features\n",
    "print(f'Train features shape: {train_features.shape}')\n",
    "print(f'Test features shape: {test_features.shape}')\n"
   ]
  },
  {
   "cell_type": "code",
   "execution_count": 10,
   "id": "bb93fcf6-a3c6-43ec-ad46-847d4a47ec14",
   "metadata": {},
   "outputs": [
    {
     "name": "stdout",
     "output_type": "stream",
     "text": [
      "Flattened train features shape: (239, 262144)\n",
      "Flattened test features shape: (60, 262144)\n"
     ]
    }
   ],
   "source": [
    "# Flatten the features\n",
    "train_features_flattened = train_features.reshape(train_features.shape[0], -1)\n",
    "test_features_flattened = test_features.reshape(test_features.shape[0], -1)\n",
    "\n",
    "# Check the flattened feature shapes\n",
    "print(f'Flattened train features shape: {train_features_flattened.shape}')\n",
    "print(f'Flattened test features shape: {test_features_flattened.shape}')\n"
   ]
  },
  {
   "cell_type": "code",
   "execution_count": 11,
   "id": "dc86211d-ef66-4323-83c6-5c62c031a73e",
   "metadata": {},
   "outputs": [
    {
     "name": "stdout",
     "output_type": "stream",
     "text": [
      "Shape of y_train_labels: (239, 128, 128, 2)\n",
      "Shape of y_test_labels: (60, 128, 128, 2)\n"
     ]
    }
   ],
   "source": [
    "from tensorflow.keras.utils import to_categorical\n",
    "\n",
    "# Assuming y_train and y_test are your label arrays\n",
    "# Convert labels to categorical if necessary\n",
    "y_train_labels = to_categorical(y_train, num_classes=2)  # Update num_classes if necessary\n",
    "y_test_labels = to_categorical(y_test, num_classes=2)\n",
    "\n",
    "# Check the shape of the labels\n",
    "print(f'Shape of y_train_labels: {y_train_labels.shape}')\n",
    "print(f'Shape of y_test_labels: {y_test_labels.shape}')\n"
   ]
  },
  {
   "cell_type": "code",
   "execution_count": 12,
   "id": "0f38dcf4-f296-46d1-a65e-ab7a130ca31b",
   "metadata": {},
   "outputs": [
    {
     "name": "stdout",
     "output_type": "stream",
     "text": [
      "Flattened y_train_labels shape: (239, 16384, 2)\n",
      "Flattened y_test_labels shape: (60, 16384, 2)\n"
     ]
    }
   ],
   "source": [
    "# Flatten the labels for classification\n",
    "y_train_labels_flattened = y_train_labels.reshape(y_train_labels.shape[0], -1, y_train_labels.shape[-1])\n",
    "y_test_labels_flattened = y_test_labels.reshape(y_test_labels.shape[0], -1, y_test_labels.shape[-1])\n",
    "\n",
    "# Check the flattened label shapes\n",
    "print(f'Flattened y_train_labels shape: {y_train_labels_flattened.shape}')\n",
    "print(f'Flattened y_test_labels shape: {y_test_labels_flattened.shape}')\n"
   ]
  },
  {
   "cell_type": "code",
   "execution_count": 13,
   "id": "56078d84-865a-4709-bea3-2f03b397cef1",
   "metadata": {},
   "outputs": [],
   "source": [
    "import tensorflow as tf\n",
    "from tensorflow.keras.models import Model\n",
    "from tensorflow.keras.layers import Input, Dense, Dropout\n",
    "\n",
    "def create_vit_model(input_shape, num_classes):\n",
    "    inputs = Input(shape=input_shape)\n",
    "    x = Dense(512, activation='relu')(inputs)\n",
    "    x = Dropout(0.5)(x)\n",
    "    x = Dense(256, activation='relu')(x)\n",
    "    x = Dropout(0.5)(x)\n",
    "    x = Dense(128, activation='relu')(x)\n",
    "    outputs = Dense(num_classes, activation='softmax')(x)\n",
    "\n",
    "    model = Model(inputs=inputs, outputs=outputs)\n",
    "    return model\n",
    "\n",
    "# Define input shape for ViT\n",
    "input_shape_vit = (train_features_flattened.shape[1],)  # Flattened feature shape\n",
    "num_classes = 2  # Number of classes\n",
    "\n",
    "# Create and compile Vision Transformer model\n",
    "vit_model = create_vit_model(input_shape_vit, num_classes)\n",
    "vit_model.compile(optimizer='adam', loss='categorical_crossentropy', metrics=['accuracy'])\n"
   ]
  },
  {
   "cell_type": "code",
   "execution_count": 14,
   "id": "1e8c01b7-6cff-4d1e-967c-eced92fced71",
   "metadata": {},
   "outputs": [
    {
     "name": "stdout",
     "output_type": "stream",
     "text": [
      "Shape of y_train_labels_single: (239, 2)\n",
      "Shape of y_test_labels_single: (60, 2)\n"
     ]
    }
   ],
   "source": [
    "# Convert pixel-level labels to image-level labels\n",
    "y_train_labels_single = np.argmax(y_train_labels_flattened.mean(axis=1), axis=-1)\n",
    "y_test_labels_single = np.argmax(y_test_labels_flattened.mean(axis=1), axis=-1)\n",
    "\n",
    "# Convert to categorical\n",
    "y_train_labels_single = tf.keras.utils.to_categorical(y_train_labels_single, num_classes=2)\n",
    "y_test_labels_single = tf.keras.utils.to_categorical(y_test_labels_single, num_classes=2)\n",
    "\n",
    "# Check the new shape of labels\n",
    "print(f'Shape of y_train_labels_single: {y_train_labels_single.shape}')\n",
    "print(f'Shape of y_test_labels_single: {y_test_labels_single.shape}')\n"
   ]
  },
  {
   "cell_type": "code",
   "execution_count": 15,
   "id": "8ed432de-2ace-48f7-86a1-2516f192d462",
   "metadata": {},
   "outputs": [
    {
     "name": "stdout",
     "output_type": "stream",
     "text": [
      "Epoch 1/10\n",
      "\u001b[1m60/60\u001b[0m \u001b[32m━━━━━━━━━━━━━━━━━━━━\u001b[0m\u001b[37m\u001b[0m \u001b[1m99s\u001b[0m 2s/step - accuracy: 0.5835 - loss: 492.5407 - val_accuracy: 0.7333 - val_loss: 339.8163\n",
      "Epoch 2/10\n",
      "\u001b[1m60/60\u001b[0m \u001b[32m━━━━━━━━━━━━━━━━━━━━\u001b[0m\u001b[37m\u001b[0m \u001b[1m96s\u001b[0m 2s/step - accuracy: 0.5892 - loss: 616.6078 - val_accuracy: 0.7333 - val_loss: 300.9352\n",
      "Epoch 3/10\n",
      "\u001b[1m60/60\u001b[0m \u001b[32m━━━━━━━━━━━━━━━━━━━━\u001b[0m\u001b[37m\u001b[0m \u001b[1m96s\u001b[0m 2s/step - accuracy: 0.5570 - loss: 428.0362 - val_accuracy: 0.6667 - val_loss: 91.3384\n",
      "Epoch 4/10\n",
      "\u001b[1m60/60\u001b[0m \u001b[32m━━━━━━━━━━━━━━━━━━━━\u001b[0m\u001b[37m\u001b[0m \u001b[1m96s\u001b[0m 2s/step - accuracy: 0.6115 - loss: 283.1037 - val_accuracy: 0.6667 - val_loss: 90.3914\n",
      "Epoch 5/10\n",
      "\u001b[1m60/60\u001b[0m \u001b[32m━━━━━━━━━━━━━━━━━━━━\u001b[0m\u001b[37m\u001b[0m \u001b[1m97s\u001b[0m 2s/step - accuracy: 0.6122 - loss: 171.7394 - val_accuracy: 0.7333 - val_loss: 86.5747\n",
      "Epoch 6/10\n",
      "\u001b[1m60/60\u001b[0m \u001b[32m━━━━━━━━━━━━━━━━━━━━\u001b[0m\u001b[37m\u001b[0m \u001b[1m97s\u001b[0m 2s/step - accuracy: 0.6946 - loss: 121.5807 - val_accuracy: 0.6167 - val_loss: 38.0640\n",
      "Epoch 7/10\n",
      "\u001b[1m60/60\u001b[0m \u001b[32m━━━━━━━━━━━━━━━━━━━━\u001b[0m\u001b[37m\u001b[0m \u001b[1m137s\u001b[0m 2s/step - accuracy: 0.6371 - loss: 93.2745 - val_accuracy: 0.7500 - val_loss: 31.9250\n",
      "Epoch 8/10\n",
      "\u001b[1m60/60\u001b[0m \u001b[32m━━━━━━━━━━━━━━━━━━━━\u001b[0m\u001b[37m\u001b[0m \u001b[1m92s\u001b[0m 2s/step - accuracy: 0.5603 - loss: 74.5486 - val_accuracy: 0.3667 - val_loss: 44.9112\n",
      "Epoch 9/10\n",
      "\u001b[1m60/60\u001b[0m \u001b[32m━━━━━━━━━━━━━━━━━━━━\u001b[0m\u001b[37m\u001b[0m \u001b[1m92s\u001b[0m 2s/step - accuracy: 0.5386 - loss: 47.3676 - val_accuracy: 0.5333 - val_loss: 9.7129\n",
      "Epoch 10/10\n",
      "\u001b[1m60/60\u001b[0m \u001b[32m━━━━━━━━━━━━━━━━━━━━\u001b[0m\u001b[37m\u001b[0m \u001b[1m142s\u001b[0m 2s/step - accuracy: 0.6088 - loss: 37.1671 - val_accuracy: 0.7167 - val_loss: 20.5743\n",
      "\u001b[1m2/2\u001b[0m \u001b[32m━━━━━━━━━━━━━━━━━━━━\u001b[0m\u001b[37m\u001b[0m \u001b[1m0s\u001b[0m 70ms/step - accuracy: 0.7174 - loss: 20.9359\n",
      "Test Loss: 20.5743\n",
      "Test Accuracy: 0.7167\n"
     ]
    }
   ],
   "source": [
    "# Train the Vision Transformer model\n",
    "history = vit_model.fit(\n",
    "    train_features_flattened, \n",
    "    y_train_labels_single, \n",
    "    validation_data=(test_features_flattened, y_test_labels_single), \n",
    "    epochs=10, \n",
    "    batch_size=4\n",
    ")\n",
    "\n",
    "# Evaluate the Vision Transformer model\n",
    "loss, accuracy = vit_model.evaluate(test_features_flattened, y_test_labels_single)\n",
    "print(f'Test Loss: {loss:.4f}')\n",
    "print(f'Test Accuracy: {accuracy:.4f}')\n"
   ]
  },
  {
   "cell_type": "code",
   "execution_count": 16,
   "id": "1c6f8cb4-d4be-41d7-9918-1a17edf0993f",
   "metadata": {},
   "outputs": [
    {
     "name": "stderr",
     "output_type": "stream",
     "text": [
      "WARNING:absl:You are saving your model as an HDF5 file via `model.save()` or `keras.saving.save_model(model)`. This file format is considered legacy. We recommend using instead the native Keras format, e.g. `model.save('my_model.keras')` or `keras.saving.save_model(model, 'my_model.keras')`. \n"
     ]
    }
   ],
   "source": [
    "# Save the Vision Transformer model\n",
    "vit_model.save('vit_model_batch_norm.h5')\n"
   ]
  },
  {
   "cell_type": "code",
   "execution_count": 18,
   "id": "c2343e35-a6d6-4761-bbd3-1e663c326210",
   "metadata": {},
   "outputs": [
    {
     "name": "stderr",
     "output_type": "stream",
     "text": [
      "WARNING:absl:Compiled the loaded model, but the compiled metrics have yet to be built. `model.compile_metrics` will be empty until you train or evaluate the model.\n"
     ]
    }
   ],
   "source": [
    "from tensorflow.keras.models import load_model\n",
    "\n",
    "# Load the Vision Transformer model\n",
    "vit_model = load_model('vit_model_batch_norm.h5')\n"
   ]
  },
  {
   "cell_type": "code",
   "execution_count": 19,
   "id": "beca42fa-df29-4103-9bc5-16332645c940",
   "metadata": {},
   "outputs": [
    {
     "data": {
      "image/png": "[encoded data removed]",
      "text/plain": [
       "<Figure size 1200x600 with 2 Axes>"
      ]
     },
     "metadata": {},
     "output_type": "display_data"
    }
   ],
   "source": [
    "import matplotlib.pyplot as plt\n",
    "\n",
    "# Plot training & validation accuracy values\n",
    "plt.figure(figsize=(12, 6))\n",
    "\n",
    "plt.subplot(1, 2, 1)\n",
    "plt.plot(history.history['accuracy'])\n",
    "plt.plot(history.history['val_accuracy'])\n",
    "plt.title('Model Accuracy')\n",
    "plt.xlabel('Epoch')\n",
    "plt.ylabel('Accuracy')\n",
    "plt.legend(['Train', 'Validation'], loc='upper left')\n",
    "\n",
    "# Plot training & validation loss values\n",
    "plt.subplot(1, 2, 2)\n",
    "plt.plot(history.history['loss'])\n",
    "plt.plot(history.history['val_loss'])\n",
    "plt.title('Model Loss')\n",
    "plt.xlabel('Epoch')\n",
    "plt.ylabel('Loss')\n",
    "plt.legend(['Train', 'Validation'], loc='upper left')\n",
    "\n",
    "plt.show()\n"
   ]
  },
  {
   "cell_type": "code",
   "execution_count": null,
   "id": "b81502bb-5441-4591-870e-b424fb00a838",
   "metadata": {},
   "outputs": [],
   "source": []
  }
 ],
 "metadata": {
  "kernelspec": {
   "display_name": "Python 3 (ipykernel)",
   "language": "python",
   "name": "python3"
  },
  "language_info": {
   "codemirror_mode": {
    "name": "ipython",
    "version": 3
   },
   "file_extension": ".py",
   "mimetype": "text/x-python",
   "name": "python",
   "nbconvert_exporter": "python",
   "pygments_lexer": "ipython3",
   "version": "3.10.12"
  }
 },
 "nbformat": 4,
 "nbformat_minor": 5
}
