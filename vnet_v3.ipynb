{
 "cells": [
  {
   "cell_type": "code",
   "execution_count": 1,
   "id": "b6ef2a07-a849-4b25-b28e-84836711e7c9",
   "metadata": {},
   "outputs": [
    {
     "name": "stdout",
     "output_type": "stream",
     "text": [
      "Number of images and masks are consistent.\n"
     ]
    }
   ],
   "source": [
    "import os\n",
    "import numpy as np\n",
    "from PIL import Image\n",
    "from sklearn.model_selection import train_test_split\n",
    "\n",
    "def load_images_and_masks(directory):\n",
    "    images = []\n",
    "    masks = []\n",
    "\n",
    "    for filename in os.listdir(directory):\n",
    "        filepath = os.path.join(directory, filename)\n",
    "        \n",
    "        if filename.startswith('1'):  # Original images\n",
    "            image = Image.open(filepath).convert('L')\n",
    "            image = image.resize((128, 128))\n",
    "            image = np.array(image) / 255.0\n",
    "            images.append(image)\n",
    "        \n",
    "        elif filename.startswith('2'):  # Masks\n",
    "            mask = Image.open(filepath).convert('L')\n",
    "            mask = mask.resize((128, 128))\n",
    "            mask = np.array(mask) / 255.0\n",
    "            masks.append(mask)\n",
    "    \n",
    "    return np.array(images), np.array(masks)\n",
    "\n",
    "selected_images_dir = 'selected_images_1500'\n",
    "images, masks = load_images_and_masks(selected_images_dir)\n",
    "\n",
    "# Check consistency\n",
    "def check_consistency(images, masks):\n",
    "    if len(images) != len(masks):\n",
    "        print(\"Number of images and masks are not consistent.\")\n",
    "        return False\n",
    "    else:\n",
    "        print(\"Number of images and masks are consistent.\")\n",
    "        return True\n",
    "\n",
    "if not check_consistency(images, masks):\n",
    "    exit()\n",
    "\n",
    "# Split the dataset into training and testing sets\n",
    "X_train, X_test, y_train, y_test = train_test_split(images, masks, test_size=0.2, random_state=42)\n",
    "\n",
    "\n"
   ]
  },
  {
   "cell_type": "code",
   "execution_count": 2,
   "id": "57146b36-9c09-42d7-9336-ccb6b29b9b4d",
   "metadata": {},
   "outputs": [
    {
     "name": "stderr",
     "output_type": "stream",
     "text": [
      "2024-08-26 22:54:48.219065: I external/local_tsl/tsl/cuda/cudart_stub.cc:32] Could not find cuda drivers on your machine, GPU will not be used.\n",
      "2024-08-26 22:54:48.299856: I external/local_tsl/tsl/cuda/cudart_stub.cc:32] Could not find cuda drivers on your machine, GPU will not be used.\n",
      "2024-08-26 22:54:48.602959: I tensorflow/core/platform/cpu_feature_guard.cc:210] This TensorFlow binary is optimized to use available CPU instructions in performance-critical operations.\n",
      "To enable the following instructions: AVX2 FMA, in other operations, rebuild TensorFlow with the appropriate compiler flags.\n",
      "2024-08-26 22:54:50.194417: W tensorflow/compiler/tf2tensorrt/utils/py_utils.cc:38] TF-TRT Warning: Could not find TensorRT\n"
     ]
    }
   ],
   "source": [
    "import tensorflow as tf\n",
    "from tensorflow.keras.models import Model\n",
    "from tensorflow.keras.layers import Input, Conv2D, Conv2DTranspose, BatchNormalization, PReLU, Add, concatenate, MaxPooling2D\n",
    "\n",
    "def vnet_2d(input_shape):\n",
    "    def vnet_block(x, num_filters):\n",
    "        conv = Conv2D(num_filters, kernel_size=(5, 5), padding='same')(x)\n",
    "        conv = BatchNormalization()(conv)\n",
    "        conv = PReLU()(conv)\n",
    "        conv = Conv2D(num_filters, kernel_size=(5, 5), padding='same')(conv)\n",
    "        conv = BatchNormalization()(conv)\n",
    "        conv = PReLU()(conv)\n",
    "        return conv\n",
    "\n",
    "    inputs = Input(input_shape)\n",
    "    \n",
    "    # Encoder\n",
    "    conv1 = vnet_block(inputs, 16)\n",
    "    pool1 = MaxPooling2D(pool_size=(2, 2))(conv1)\n",
    "    \n",
    "    conv2 = vnet_block(pool1, 32)\n",
    "    pool2 = MaxPooling2D(pool_size=(2, 2))(conv2)\n",
    "    \n",
    "    conv3 = vnet_block(pool2, 64)\n",
    "    \n",
    "    # Bottleneck\n",
    "    conv4 = vnet_block(conv3, 128)\n",
    "    \n",
    "    # Decoder\n",
    "    up5 = Conv2DTranspose(64, kernel_size=(2, 2), strides=(2, 2), padding='same')(conv4)\n",
    "    up5 = concatenate([up5, conv2])\n",
    "    conv5 = vnet_block(up5, 64)\n",
    "    \n",
    "    up6 = Conv2DTranspose(32, kernel_size=(2, 2), strides=(2, 2), padding='same')(conv5)\n",
    "    up6 = concatenate([up6, conv1])\n",
    "    conv6 = vnet_block(up6, 32)\n",
    "    \n",
    "    outputs = Conv2D(1, kernel_size=(1, 1), activation='sigmoid')(conv6)\n",
    "    \n",
    "    model = Model(inputs=inputs, outputs=outputs)\n",
    "    \n",
    "    return model\n",
    "\n",
    "# Define input shape\n",
    "input_shape = (128, 128, 1)\n",
    "\n",
    "# Create the V-Net model\n",
    "vnet_model = vnet_2d(input_shape)\n"
   ]
  },
  {
   "cell_type": "code",
   "execution_count": 3,
   "id": "1e41238e-51b5-4ba2-979a-7d1b4666f3c5",
   "metadata": {},
   "outputs": [],
   "source": [
    "# Compile the V-Net model\n",
    "vnet_model.compile(optimizer='adam', loss='binary_crossentropy', metrics=['accuracy'])\n"
   ]
  },
  {
   "cell_type": "code",
   "execution_count": 4,
   "id": "01592f1d-c133-4ada-b714-6fa680324b15",
   "metadata": {},
   "outputs": [
    {
     "name": "stdout",
     "output_type": "stream",
     "text": [
      "Epoch 1/15\n",
      "\u001b[1m60/60\u001b[0m \u001b[32m━━━━━━━━━━━━━━━━━━━━\u001b[0m\u001b[37m\u001b[0m \u001b[1m71s\u001b[0m 1s/step - accuracy: 0.2529 - loss: 0.6672 - val_accuracy: 0.3417 - val_loss: 0.6153\n",
      "Epoch 2/15\n",
      "\u001b[1m60/60\u001b[0m \u001b[32m━━━━━━━━━━━━━━━━━━━━\u001b[0m\u001b[37m\u001b[0m \u001b[1m62s\u001b[0m 1s/step - accuracy: 0.3000 - loss: 0.6248 - val_accuracy: 0.3420 - val_loss: 0.5934\n",
      "Epoch 3/15\n",
      "\u001b[1m60/60\u001b[0m \u001b[32m━━━━━━━━━━━━━━━━━━━━\u001b[0m\u001b[37m\u001b[0m \u001b[1m59s\u001b[0m 977ms/step - accuracy: 0.2810 - loss: 0.6255 - val_accuracy: 0.3420 - val_loss: 0.5908\n",
      "Epoch 4/15\n",
      "\u001b[1m60/60\u001b[0m \u001b[32m━━━━━━━━━━━━━━━━━━━━\u001b[0m\u001b[37m\u001b[0m \u001b[1m58s\u001b[0m 962ms/step - accuracy: 0.3201 - loss: 0.6103 - val_accuracy: 0.3420 - val_loss: 0.5860\n",
      "Epoch 5/15\n",
      "\u001b[1m60/60\u001b[0m \u001b[32m━━━━━━━━━━━━━━━━━━━━\u001b[0m\u001b[37m\u001b[0m \u001b[1m58s\u001b[0m 960ms/step - accuracy: 0.3317 - loss: 0.5825 - val_accuracy: 0.3418 - val_loss: 0.5962\n",
      "Epoch 6/15\n",
      "\u001b[1m60/60\u001b[0m \u001b[32m━━━━━━━━━━━━━━━━━━━━\u001b[0m\u001b[37m\u001b[0m \u001b[1m58s\u001b[0m 969ms/step - accuracy: 0.2914 - loss: 0.6131 - val_accuracy: 0.3353 - val_loss: 0.6033\n",
      "Epoch 7/15\n",
      "\u001b[1m60/60\u001b[0m \u001b[32m━━━━━━━━━━━━━━━━━━━━\u001b[0m\u001b[37m\u001b[0m \u001b[1m58s\u001b[0m 973ms/step - accuracy: 0.3288 - loss: 0.5951 - val_accuracy: 0.3420 - val_loss: 0.5888\n",
      "Epoch 8/15\n",
      "\u001b[1m60/60\u001b[0m \u001b[32m━━━━━━━━━━━━━━━━━━━━\u001b[0m\u001b[37m\u001b[0m \u001b[1m60s\u001b[0m 1s/step - accuracy: 0.2945 - loss: 0.6113 - val_accuracy: 0.3385 - val_loss: 0.5878\n",
      "Epoch 9/15\n",
      "\u001b[1m60/60\u001b[0m \u001b[32m━━━━━━━━━━━━━━━━━━━━\u001b[0m\u001b[37m\u001b[0m \u001b[1m58s\u001b[0m 974ms/step - accuracy: 0.3216 - loss: 0.5946 - val_accuracy: 0.3342 - val_loss: 0.5998\n",
      "Epoch 10/15\n",
      "\u001b[1m60/60\u001b[0m \u001b[32m━━━━━━━━━━━━━━━━━━━━\u001b[0m\u001b[37m\u001b[0m \u001b[1m59s\u001b[0m 976ms/step - accuracy: 0.2963 - loss: 0.6173 - val_accuracy: 0.3353 - val_loss: 0.5930\n",
      "Epoch 11/15\n",
      "\u001b[1m60/60\u001b[0m \u001b[32m━━━━━━━━━━━━━━━━━━━━\u001b[0m\u001b[37m\u001b[0m \u001b[1m59s\u001b[0m 980ms/step - accuracy: 0.3268 - loss: 0.5882 - val_accuracy: 0.3355 - val_loss: 0.5922\n",
      "Epoch 12/15\n",
      "\u001b[1m60/60\u001b[0m \u001b[32m━━━━━━━━━━━━━━━━━━━━\u001b[0m\u001b[37m\u001b[0m \u001b[1m60s\u001b[0m 994ms/step - accuracy: 0.3097 - loss: 0.6145 - val_accuracy: 0.3410 - val_loss: 0.5864\n",
      "Epoch 13/15\n",
      "\u001b[1m60/60\u001b[0m \u001b[32m━━━━━━━━━━━━━━━━━━━━\u001b[0m\u001b[37m\u001b[0m \u001b[1m62s\u001b[0m 1s/step - accuracy: 0.2910 - loss: 0.6111 - val_accuracy: 0.3385 - val_loss: 0.5871\n",
      "Epoch 14/15\n",
      "\u001b[1m60/60\u001b[0m \u001b[32m━━━━━━━━━━━━━━━━━━━━\u001b[0m\u001b[37m\u001b[0m \u001b[1m61s\u001b[0m 1s/step - accuracy: 0.2987 - loss: 0.6066 - val_accuracy: 0.3418 - val_loss: 0.5857\n",
      "Epoch 15/15\n",
      "\u001b[1m60/60\u001b[0m \u001b[32m━━━━━━━━━━━━━━━━━━━━\u001b[0m\u001b[37m\u001b[0m \u001b[1m62s\u001b[0m 1s/step - accuracy: 0.2781 - loss: 0.6113 - val_accuracy: 0.3354 - val_loss: 0.5928\n",
      "\u001b[1m2/2\u001b[0m \u001b[32m━━━━━━━━━━━━━━━━━━━━\u001b[0m\u001b[37m\u001b[0m \u001b[1m3s\u001b[0m 1s/step - accuracy: 0.3350 - loss: 0.5939\n",
      "Test Loss: 0.5928\n",
      "Test Accuracy: 0.3354\n"
     ]
    }
   ],
   "source": [
    "# Train the V-Net model\n",
    "history = vnet_model.fit(X_train, y_train, validation_data=(X_test, y_test), epochs=15, batch_size=4)\n",
    "\n",
    "# Evaluate the V-Net model\n",
    "loss, accuracy = vnet_model.evaluate(X_test, y_test)\n",
    "print(f'Test Loss: {loss:.4f}')\n",
    "print(f'Test Accuracy: {accuracy:.4f}')\n"
   ]
  },
  {
   "cell_type": "code",
   "execution_count": 10,
   "id": "60655e5a-9428-4b97-b356-a2b742c59e55",
   "metadata": {},
   "outputs": [
    {
     "name": "stdout",
     "output_type": "stream",
     "text": [
      "\u001b[1m8/8\u001b[0m \u001b[32m━━━━━━━━━━━━━━━━━━━━\u001b[0m\u001b[37m\u001b[0m \u001b[1m2s\u001b[0m 234ms/step\n",
      "\u001b[1m2/2\u001b[0m \u001b[32m━━━━━━━━━━━━━━━━━━━━\u001b[0m\u001b[37m\u001b[0m \u001b[1m0s\u001b[0m 188ms/step\n",
      "Train features shape: (239, 32, 32, 64)\n",
      "Test features shape: (60, 32, 32, 64)\n"
     ]
    }
   ],
   "source": [
    "from tensorflow.keras.models import Model\n",
    "import numpy as np\n",
    "\n",
    "# Select the layer from which you want to extract features from V-Net\n",
    "feature_layer_name = 'conv2d_5'  # Update this with the correct layer name from V-Net\n",
    "feature_extractor_model = Model(inputs=vnet_model.input, outputs=vnet_model.get_layer(feature_layer_name).output)\n",
    "\n",
    "# Extract features for training and testing datasets\n",
    "train_features = feature_extractor_model.predict(X_train)\n",
    "test_features = feature_extractor_model.predict(X_test)\n",
    "\n",
    "# Check the shape of extracted features\n",
    "print(f'Train features shape: {train_features.shape}')\n",
    "print(f'Test features shape: {test_features.shape}')\n"
   ]
  },
  {
   "cell_type": "code",
   "execution_count": 11,
   "id": "20f6181f-ea1f-44e5-a351-18316c97588b",
   "metadata": {},
   "outputs": [
    {
     "name": "stdout",
     "output_type": "stream",
     "text": [
      "Flattened train features shape: (239, 65536)\n",
      "Flattened test features shape: (60, 65536)\n"
     ]
    }
   ],
   "source": [
    "# Flatten the features for the ViT model\n",
    "train_features_flattened = train_features.reshape(train_features.shape[0], -1)\n",
    "test_features_flattened = test_features.reshape(test_features.shape[0], -1)\n",
    "\n",
    "# Check the flattened feature shapes\n",
    "print(f'Flattened train features shape: {train_features_flattened.shape}')\n",
    "print(f'Flattened test features shape: {test_features_flattened.shape}')\n"
   ]
  },
  {
   "cell_type": "code",
   "execution_count": 12,
   "id": "ad0642a6-a95b-4ac6-80f1-7d70aa08b651",
   "metadata": {},
   "outputs": [],
   "source": [
    "import tensorflow as tf\n",
    "from tensorflow.keras.models import Model\n",
    "from tensorflow.keras.layers import Input, Dense, Dropout\n",
    "\n",
    "def create_vit_model(input_shape, num_classes):\n",
    "    inputs = Input(shape=input_shape)\n",
    "    x = Dense(512, activation='relu')(inputs)\n",
    "    x = Dropout(0.5)(x)\n",
    "    x = Dense(256, activation='relu')(x)\n",
    "    x = Dropout(0.5)(x)\n",
    "    x = Dense(128, activation='relu')(x)\n",
    "    outputs = Dense(num_classes, activation='softmax')(x)\n",
    "\n",
    "    model = Model(inputs=inputs, outputs=outputs)\n",
    "    return model\n",
    "\n",
    "# Define input shape for ViT\n",
    "input_shape_vit = (train_features_flattened.shape[1],)  # Flattened feature shape\n",
    "num_classes = 2  # Number of classes\n",
    "\n",
    "# Create and compile Vision Transformer model\n",
    "vit_model = create_vit_model(input_shape_vit, num_classes)\n",
    "vit_model.compile(optimizer='adam', loss='categorical_crossentropy', metrics=['accuracy'])"
   ]
  },
  {
   "cell_type": "code",
   "execution_count": 13,
   "id": "45feb56a-7b9e-42ed-9890-06b107dcb589",
   "metadata": {},
   "outputs": [
    {
     "name": "stdout",
     "output_type": "stream",
     "text": [
      "Shape of y_train_labels: (239, 128, 128, 2)\n",
      "Shape of y_test_labels: (60, 128, 128, 2)\n",
      "Flattened y_train_labels shape: (239, 16384, 2)\n",
      "Flattened y_test_labels shape: (60, 16384, 2)\n"
     ]
    }
   ],
   "source": [
    "from tensorflow.keras.utils import to_categorical\n",
    "\n",
    "# Convert segmentation masks to categorical labels\n",
    "y_train_labels = to_categorical(y_train, num_classes=2)  # Update num_classes if necessary\n",
    "y_test_labels = to_categorical(y_test, num_classes=2)\n",
    "\n",
    "# Check the shape of the labels\n",
    "print(f'Shape of y_train_labels: {y_train_labels.shape}')\n",
    "print(f'Shape of y_test_labels: {y_test_labels.shape}')\n",
    "\n",
    "# Flatten the labels for classification\n",
    "y_train_labels_flattened = y_train_labels.reshape(y_train_labels.shape[0], -1, y_train_labels.shape[-1])\n",
    "y_test_labels_flattened = y_test_labels.reshape(y_test_labels.shape[0], -1, y_test_labels.shape[-1])\n",
    "\n",
    "# Check the flattened label shapes\n",
    "print(f'Flattened y_train_labels shape: {y_train_labels_flattened.shape}')\n",
    "print(f'Flattened y_test_labels shape: {y_test_labels_flattened.shape}')\n"
   ]
  },
  {
   "cell_type": "code",
   "execution_count": 14,
   "id": "ac458725-1796-43c0-b712-5338e54fda8a",
   "metadata": {},
   "outputs": [
    {
     "name": "stdout",
     "output_type": "stream",
     "text": [
      "Shape of y_train_labels_single: (239, 2)\n",
      "Shape of y_test_labels_single: (60, 2)\n"
     ]
    }
   ],
   "source": [
    "# Convert pixel-level labels to image-level labels\n",
    "y_train_labels_single = np.argmax(y_train_labels_flattened.mean(axis=1), axis=-1)\n",
    "y_test_labels_single = np.argmax(y_test_labels_flattened.mean(axis=1), axis=-1)\n",
    "\n",
    "# Convert to categorical for ViT\n",
    "y_train_labels_single = tf.keras.utils.to_categorical(y_train_labels_single, num_classes=2)\n",
    "y_test_labels_single = tf.keras.utils.to_categorical(y_test_labels_single, num_classes=2)\n",
    "\n",
    "# Check the new shape of labels\n",
    "print(f'Shape of y_train_labels_single: {y_train_labels_single.shape}')\n",
    "print(f'Shape of y_test_labels_single: {y_test_labels_single.shape}')\n"
   ]
  },
  {
   "cell_type": "code",
   "execution_count": 15,
   "id": "adc0b371-470a-4a3a-84c5-9ab9031b1b78",
   "metadata": {},
   "outputs": [
    {
     "name": "stdout",
     "output_type": "stream",
     "text": [
      "Epoch 1/10\n",
      "\u001b[1m60/60\u001b[0m \u001b[32m━━━━━━━━━━━━━━━━━━━━\u001b[0m\u001b[37m\u001b[0m \u001b[1m25s\u001b[0m 406ms/step - accuracy: 0.5641 - loss: 173.9659 - val_accuracy: 0.7000 - val_loss: 92.0749\n",
      "Epoch 2/10\n",
      "\u001b[1m60/60\u001b[0m \u001b[32m━━━━━━━━━━━━━━━━━━━━\u001b[0m\u001b[37m\u001b[0m \u001b[1m25s\u001b[0m 413ms/step - accuracy: 0.5549 - loss: 256.2029 - val_accuracy: 0.3000 - val_loss: 183.0866\n",
      "Epoch 3/10\n",
      "\u001b[1m60/60\u001b[0m \u001b[32m━━━━━━━━━━━━━━━━━━━━\u001b[0m\u001b[37m\u001b[0m \u001b[1m24s\u001b[0m 407ms/step - accuracy: 0.5809 - loss: 195.9426 - val_accuracy: 0.4167 - val_loss: 140.0842\n",
      "Epoch 4/10\n",
      "\u001b[1m60/60\u001b[0m \u001b[32m━━━━━━━━━━━━━━━━━━━━\u001b[0m\u001b[37m\u001b[0m \u001b[1m24s\u001b[0m 407ms/step - accuracy: 0.6896 - loss: 150.1643 - val_accuracy: 0.6333 - val_loss: 30.9121\n",
      "Epoch 5/10\n",
      "\u001b[1m60/60\u001b[0m \u001b[32m━━━━━━━━━━━━━━━━━━━━\u001b[0m\u001b[37m\u001b[0m \u001b[1m24s\u001b[0m 394ms/step - accuracy: 0.6550 - loss: 106.6676 - val_accuracy: 0.7333 - val_loss: 71.6608\n",
      "Epoch 6/10\n",
      "\u001b[1m60/60\u001b[0m \u001b[32m━━━━━━━━━━━━━━━━━━━━\u001b[0m\u001b[37m\u001b[0m \u001b[1m24s\u001b[0m 398ms/step - accuracy: 0.5908 - loss: 72.1615 - val_accuracy: 0.5833 - val_loss: 29.8470\n",
      "Epoch 7/10\n",
      "\u001b[1m60/60\u001b[0m \u001b[32m━━━━━━━━━━━━━━━━━━━━\u001b[0m\u001b[37m\u001b[0m \u001b[1m24s\u001b[0m 397ms/step - accuracy: 0.6503 - loss: 52.1630 - val_accuracy: 0.5333 - val_loss: 26.8332\n",
      "Epoch 8/10\n",
      "\u001b[1m60/60\u001b[0m \u001b[32m━━━━━━━━━━━━━━━━━━━━\u001b[0m\u001b[37m\u001b[0m \u001b[1m24s\u001b[0m 396ms/step - accuracy: 0.6766 - loss: 51.3737 - val_accuracy: 0.7333 - val_loss: 22.1914\n",
      "Epoch 9/10\n",
      "\u001b[1m60/60\u001b[0m \u001b[32m━━━━━━━━━━━━━━━━━━━━\u001b[0m\u001b[37m\u001b[0m \u001b[1m24s\u001b[0m 397ms/step - accuracy: 0.6178 - loss: 42.2324 - val_accuracy: 0.7167 - val_loss: 24.1156\n",
      "Epoch 10/10\n",
      "\u001b[1m60/60\u001b[0m \u001b[32m━━━━━━━━━━━━━━━━━━━━\u001b[0m\u001b[37m\u001b[0m \u001b[1m24s\u001b[0m 402ms/step - accuracy: 0.6217 - loss: 34.1099 - val_accuracy: 0.7333 - val_loss: 22.5746\n",
      "\u001b[1m2/2\u001b[0m \u001b[32m━━━━━━━━━━━━━━━━━━━━\u001b[0m\u001b[37m\u001b[0m \u001b[1m0s\u001b[0m 17ms/step - accuracy: 0.7389 - loss: 26.1058 \n",
      "Test Loss: 22.5746\n",
      "Test Accuracy: 0.7333\n"
     ]
    }
   ],
   "source": [
    "# Train the Vision Transformer model\n",
    "history = vit_model.fit(\n",
    "    train_features_flattened, \n",
    "    y_train_labels_single, \n",
    "    validation_data=(test_features_flattened, y_test_labels_single), \n",
    "    epochs=10, \n",
    "    batch_size=4\n",
    ")\n",
    "\n",
    "# Evaluate the Vision Transformer model\n",
    "loss, accuracy = vit_model.evaluate(test_features_flattened, y_test_labels_single)\n",
    "print(f'Test Loss: {loss:.4f}')\n",
    "print(f'Test Accuracy: {accuracy:.4f}')\n"
   ]
  },
  {
   "cell_type": "code",
   "execution_count": 16,
   "id": "5a5e7351-3280-41a9-a954-ca1183bde66f",
   "metadata": {},
   "outputs": [
    {
     "name": "stderr",
     "output_type": "stream",
     "text": [
      "WARNING:absl:You are saving your model as an HDF5 file via `model.save()` or `keras.saving.save_model(model)`. This file format is considered legacy. We recommend using instead the native Keras format, e.g. `model.save('my_model.keras')` or `keras.saving.save_model(model, 'my_model.keras')`. \n"
     ]
    }
   ],
   "source": [
    "# Save the Vision Transformer model\n",
    "vit_model.save('vit_model_vnet_norm.h5')"
   ]
  },
  {
   "cell_type": "code",
   "execution_count": 17,
   "id": "6726f187-061b-4d55-8115-920c8dc7501c",
   "metadata": {},
   "outputs": [
    {
     "name": "stderr",
     "output_type": "stream",
     "text": [
      "WARNING:absl:Compiled the loaded model, but the compiled metrics have yet to be built. `model.compile_metrics` will be empty until you train or evaluate the model.\n"
     ]
    }
   ],
   "source": [
    "from tensorflow.keras.models import load_model\n",
    "\n",
    "# Load the Vision Transformer model\n",
    "vit_model = load_model('vit_model_vnet_norm.h5')"
   ]
  },
  {
   "cell_type": "code",
   "execution_count": 18,
   "id": "2b0f4a38-28bc-4898-bca2-604a4e230c74",
   "metadata": {},
   "outputs": [
    {
     "data": {
      "image/png": "[encoded data removed]",
      "text/plain": [
       "<Figure size 1200x600 with 2 Axes>"
      ]
     },
     "metadata": {},
     "output_type": "display_data"
    }
   ],
   "source": [
    "import matplotlib.pyplot as plt\n",
    "\n",
    "# Plot training & validation accuracy values\n",
    "plt.figure(figsize=(12, 6))\n",
    "\n",
    "plt.subplot(1, 2, 1)\n",
    "plt.plot(history.history['accuracy'])\n",
    "plt.plot(history.history['val_accuracy'])\n",
    "plt.title('Model Accuracy')\n",
    "plt.xlabel('Epoch')\n",
    "plt.ylabel('Accuracy')\n",
    "plt.legend(['Train', 'Validation'], loc='upper left')\n",
    "\n",
    "# Plot training & validation loss values\n",
    "plt.subplot(1, 2, 2)\n",
    "plt.plot(history.history['loss'])\n",
    "plt.plot(history.history['val_loss'])\n",
    "plt.title('Model Loss')\n",
    "plt.xlabel('Epoch')\n",
    "plt.ylabel('Loss')\n",
    "plt.legend(['Train', 'Validation'], loc='upper left')\n",
    "\n",
    "plt.show()"
   ]
  },
  {
   "cell_type": "code",
   "execution_count": null,
   "id": "212b7ff7-8c2c-4920-8c37-c37889c990c7",
   "metadata": {},
   "outputs": [],
   "source": []
  }
 ],
 "metadata": {
  "kernelspec": {
   "display_name": "Python 3 (ipykernel)",
   "language": "python",
   "name": "python3"
  },
  "language_info": {
   "codemirror_mode": {
    "name": "ipython",
    "version": 3
   },
   "file_extension": ".py",
   "mimetype": "text/x-python",
   "name": "python",
   "nbconvert_exporter": "python",
   "pygments_lexer": "ipython3",
   "version": "3.10.12"
  }
 },
 "nbformat": 4,
 "nbformat_minor": 5
}
